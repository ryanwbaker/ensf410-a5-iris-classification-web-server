{
 "cells": [
  {
   "cell_type": "markdown",
   "metadata": {},
   "source": [
    "# Train an Iris classifier, save to file\n",
    "\n",
    "Author: *Ryan Baker*\n",
    "\n",
    "Steps are:\n",
    "1. Load iris dataset from sklearn.\n",
    "2. use `train_test_split()` with `random_state=34` to create train and test sets.\n",
    "3. Train a logistic regression model on the training data.\n",
    "4. Print accuracy on the test dataset.\n",
    "5. Save the model to file using joblib."
   ]
  },
  {
   "cell_type": "code",
   "execution_count": 22,
   "metadata": {},
   "outputs": [
    {
     "name": "stdout",
     "output_type": "stream",
     "text": [
      "['setosa' 'versicolor' 'virginica']\n",
      "Training set score: 0.964\n",
      "Validation set score: 1.000\n"
     ]
    }
   ],
   "source": [
    "# 1)\n",
    "from sklearn.datasets import load_iris\n",
    "from sklearn.model_selection import train_test_split\n",
    "from sklearn.linear_model import LogisticRegression\n",
    "\n",
    "iris = load_iris()\n",
    "\n",
    "# 2)\n",
    "X_train, X_val, y_train, y_val = train_test_split(iris.data, iris.target, random_state=34)\n",
    "\n",
    "# 3)\n",
    "logreg = LogisticRegression().fit(X_train, y_train)\n",
    "logreg.target_names = iris.target_names\n",
    "\n",
    "# 4)\n",
    "print(\"Training set score: {:.3f}\".format(logreg.score(X_train, y_train)))\n",
    "print(\"Validation set score: {:.3f}\".format(logreg.score(X_val, y_val)))\n",
    "\n",
    "# 5)\n",
    "from joblib import dump\n",
    "dump(logreg, 'iris_logreg.joblib');"
   ]
  },
  {
   "cell_type": "markdown",
   "metadata": {},
   "source": [
    "## Conclusion\n",
    "1. Explain in words the sequence of actions (files and functions) to generate the predicted output. Start with a user visiting `http://localhost:5000`.\n",
    "2. List three ways to modify, improve or extend this project."
   ]
  },
  {
   "cell_type": "markdown",
   "metadata": {},
   "source": [
    "**Action Sequence**\n",
    "1. User visits `http://localhost:5000`. This sends an HTTP GET request to `http://localhost:5000/`, where the flask server is listening. Because the server is already listening, the logistic regression model (created from the above code cell) has already been loaded from the joblib file.\n",
    "2. The flask server receives the HTTP GET request, and executes the function at route `/` (this is the default route, and the function is named `index()`). This results in the server sending back an HTTP response. In the body of the request, the HTML and CSS from the template `\\templates\\prediction_input.html` is included.\n",
    "3. The user's browser receives the HTTP response and renders the HTML/CSS that is included in the body, which presents the user with the web interface.\n",
    "4. The user enters Sepal and Petal dimensions, and clicks the 'Get predition' button on the webpage. This sends an HTTP GET request to `http://localhost:5000/iris_prediction`. The user's entered data in sent in the query string of the HTTP GET request.\n",
    "5. The flask server receives the HTTP request, and executes the function at route `/iris_prediction` (which is the function named `get_iris_prediction()`). The function `get_iris_prediction()` does the following:\n",
    "    1. Declares and initializes variables `values_ok`, `pred_str`, `pred_proba`\n",
    "    2. Processes the key:value pairs of the query string (flask/python turns the query string into a python dictionary).\n",
    "\n",
    "**Modifications/Improvements**\n",
    "1. Make the webpage a single page app that includes javascript. This would allow the server to send simple JSON formatted data in the response body, which is probably faster than sending an entire webpage. These webpages are tiny though, so the improvements would only be marginal. The user could have a better experience by having the page be more interactive, however.\n",
    "2. Use better CSS styling to improve readability and mobile device optimization.\n",
    "3. Make the webpage accessible across the network so any device on the LAN can use it. This was actually implemented with `app.run(host='0.0.0.0')`."
   ]
  },
  {
   "cell_type": "markdown",
   "metadata": {},
   "source": [
    "## Reflection \n",
    "Include a sentence or two about:\n",
    "\n",
    "what you liked or disliked,\n",
    "found interesting, confusing, challangeing, motivating while working on this assignment. "
   ]
  },
  {
   "cell_type": "markdown",
   "metadata": {},
   "source": [
    "*This was my favourite lab. I personally find Flask server stuff very useful. Virtually every business has data that could provide convenience if it could be made available remotely.*\n",
    "\n",
    "*This lab probably could have been a bit more challenging. It would have been nice to have some sort of string-related lab, but for the last lab it was nice to have something fun and relaxing. As with 311, this was my favourite course this semester. I absolutely love your teaching style. Thank you!! Looking forward to next semester!*"
   ]
  },
  {
   "cell_type": "code",
   "execution_count": null,
   "metadata": {},
   "outputs": [],
   "source": []
  }
 ],
 "metadata": {
  "kernelspec": {
   "display_name": "Python 3",
   "language": "python",
   "name": "python3"
  },
  "language_info": {
   "codemirror_mode": {
    "name": "ipython",
    "version": 3
   },
   "file_extension": ".py",
   "mimetype": "text/x-python",
   "name": "python",
   "nbconvert_exporter": "python",
   "pygments_lexer": "ipython3",
   "version": "3.8.8"
  }
 },
 "nbformat": 4,
 "nbformat_minor": 4
}
